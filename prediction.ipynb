{
 "cells": [
  {
   "cell_type": "code",
   "execution_count": null,
   "id": "38884d14",
   "metadata": {},
   "outputs": [],
   "source": [
    "import json\n",
    "import pandas as pd\n",
    "from sklearn.ensemble import RandomForestRegressor\n",
    "import joblib  \n",
    "\n",
    "model = joblib.load(\"weather_model.pkl\") \n",
    "\n",
    "with open(\"current_weather.json\", \"r\") as f:\n",
    "    current_data = json.load(f)\n",
    "\n",
    "\n",
    "input_df = pd.DataFrame([current_data])\n",
    "\n",
    "\n",
    "predicted_temp = model.predict(input_df)[0]\n",
    "\n",
    "\n",
    "output = {\n",
    "    \"predicted_temperature_2m\": round(predicted_temp, 2),\n",
    "    \"input_conditions\": current_data\n",
    "}\n",
    "\n",
    "with open(\"daily_prediction.json\", \"w\") as f:\n",
    "    json.dump(output, f, indent=4)\n",
    "\n",
    "\n"
   ]
  }
 ],
 "metadata": {
  "kernelspec": {
   "display_name": "env_name",
   "language": "python",
   "name": "python3"
  },
  "language_info": {
   "codemirror_mode": {
    "name": "ipython",
    "version": 3
   },
   "file_extension": ".py",
   "mimetype": "text/x-python",
   "name": "python",
   "nbconvert_exporter": "python",
   "pygments_lexer": "ipython3",
   "version": "3.10.16"
  }
 },
 "nbformat": 4,
 "nbformat_minor": 5
}
